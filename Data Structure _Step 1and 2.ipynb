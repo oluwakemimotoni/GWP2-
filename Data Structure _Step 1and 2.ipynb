{
 "cells": [
  {
   "cell_type": "markdown",
   "id": "bb163312",
   "metadata": {},
   "source": [
    "## Oluwakemi Folake Motoni"
   ]
  },
  {
   "cell_type": "markdown",
   "id": "00ba1acc",
   "metadata": {},
   "source": [
    "## Data Structure\n",
    "Data structures are a way to arrange data so that, depending on the circumstance, it can be accessed more quickly. Any programming language's fundamental building block upon which a program is based is the data structure."
   ]
  },
  {
   "cell_type": "markdown",
   "id": "a5e328f3",
   "metadata": {},
   "source": [
    "## List\n",
    "\n",
    "A list is a sequenced collection of different objects such as integers, strings, and even other lists as well\n",
    "\n",
    "- A list is represented by brackets, [ ].\n",
    "- It is mutable i.e the element within a list can be modified\n",
    "- An index is used to access and refer to items within a list.\n",
    "\n",
    "\n",
    "There are different ways of creating a list,\n",
    "\n",
    "You can either create an empty list and add all your items\n",
    "\n",
    "or \n",
    "\n",
    "You can type in all element of your list using the []\n"
   ]
  },
  {
   "cell_type": "code",
   "execution_count": 22,
   "id": "d3bec6e0",
   "metadata": {},
   "outputs": [
    {
     "name": "stdout",
     "output_type": "stream",
     "text": [
      "[]\n",
      "[]\n"
     ]
    }
   ],
   "source": [
    "# to create an empty list\n",
    "List_1 = []\n",
    "\n",
    "List_2 = list()\n",
    "\n",
    "print(List_1)\n",
    "print(List_2)"
   ]
  },
  {
   "cell_type": "code",
   "execution_count": 1,
   "id": "80647e29",
   "metadata": {},
   "outputs": [
    {
     "data": {
      "text/plain": [
       "['Kemi', 2019, 2.5, ['mango', 'banana'], 'grade']"
      ]
     },
     "execution_count": 1,
     "metadata": {},
     "output_type": "execute_result"
    }
   ],
   "source": [
    "# to create a List with elements within\n",
    "\n",
    "List_3 = [\"Kemi\", 2019, 2.5, [\"mango\", \"banana\"], (\"grade\")]\n",
    "List_3"
   ]
  },
  {
   "cell_type": "markdown",
   "id": "10780f75",
   "metadata": {},
   "source": [
    "List can contain a string, an integer, a float, another list can be in a list and a tuple as seen above"
   ]
  },
  {
   "cell_type": "code",
   "execution_count": 24,
   "id": "4a459fcd",
   "metadata": {},
   "outputs": [
    {
     "data": {
      "text/plain": [
       "list"
      ]
     },
     "execution_count": 24,
     "metadata": {},
     "output_type": "execute_result"
    }
   ],
   "source": [
    "type(List_3)"
   ]
  },
  {
   "cell_type": "code",
   "execution_count": 3,
   "id": "e7386ecf",
   "metadata": {},
   "outputs": [
    {
     "name": "stdout",
     "output_type": "stream",
     "text": [
      "Element 1:\n",
      " positive index Kemi \n",
      " Negative Index: Kemi\n"
     ]
    }
   ],
   "source": [
    "#using positive and negative index to access the elements of a list\n",
    "\n",
    "print(\"Element 1:\\n positive index\", List_3[0],\n",
    "      \"\\n Negative Index:\", List_3[-5]\n",
    "     )"
   ]
  },
  {
   "cell_type": "code",
   "execution_count": 4,
   "id": "b4531c47",
   "metadata": {},
   "outputs": [
    {
     "data": {
      "text/plain": [
       "['Kemi', 2022, 2.5, ['mango', 'banana'], 'grade']"
      ]
     },
     "execution_count": 4,
     "metadata": {},
     "output_type": "execute_result"
    }
   ],
   "source": [
    "# Because list is mutable, we can change the elements in a list\n",
    "List_3[1] = 2022\n",
    "List_3"
   ]
  },
  {
   "cell_type": "code",
   "execution_count": 5,
   "id": "19e249c1",
   "metadata": {},
   "outputs": [
    {
     "data": {
      "text/plain": [
       "[['mango', 'banana'], 'grade']"
      ]
     },
     "execution_count": 5,
     "metadata": {},
     "output_type": "execute_result"
    }
   ],
   "source": [
    "# We can extract a part of a list using slicing\n",
    "\n",
    "List_3[3:6]"
   ]
  },
  {
   "cell_type": "code",
   "execution_count": 6,
   "id": "9ef054e4",
   "metadata": {},
   "outputs": [
    {
     "data": {
      "text/plain": [
       "['Kemi', 2022, 2.5, ['mango', 'banana'], 'grade']"
      ]
     },
     "execution_count": 6,
     "metadata": {},
     "output_type": "execute_result"
    }
   ],
   "source": [
    "#we can clone a list\n",
    "New_List = List_3[:]\n",
    "New_List"
   ]
  },
  {
   "cell_type": "markdown",
   "id": "dc576d0b",
   "metadata": {},
   "source": [
    "### List Method\n",
    "\n",
    "\n",
    "#### append()\n",
    "the append method adds an element to the back of the last element in the list.\n",
    "\n",
    "    Syntax:\n",
    "        append(element)\n",
    "        \n",
    " for exeample:"
   ]
  },
  {
   "cell_type": "code",
   "execution_count": 7,
   "id": "0ab32453",
   "metadata": {},
   "outputs": [
    {
     "data": {
      "text/plain": [
       "['Kemi', 2022, 2.5, ['mango', 'banana'], 'grade', 'fruits']"
      ]
     },
     "execution_count": 7,
     "metadata": {},
     "output_type": "execute_result"
    }
   ],
   "source": [
    "List_3.append(\"fruits\")\n",
    "List_3"
   ]
  },
  {
   "cell_type": "markdown",
   "id": "88d617a6",
   "metadata": {},
   "source": [
    "#### pop()\n",
    "Removes the last element in a list, by default it removes one elements if a parameter is not passed in.\n",
    "\n",
    "for example:"
   ]
  },
  {
   "cell_type": "code",
   "execution_count": 8,
   "id": "ddcf7746",
   "metadata": {},
   "outputs": [
    {
     "name": "stdout",
     "output_type": "stream",
     "text": [
      "['Kemi', 2022, 2.5, ['mango', 'banana'], 'grade', 'fruits']\n",
      "fruits\n",
      "['Kemi', 2022, 2.5, ['mango', 'banana'], 'grade']\n"
     ]
    }
   ],
   "source": [
    "print(List_3)\n",
    "print(List_3.pop())\n",
    "print(List_3)"
   ]
  },
  {
   "cell_type": "code",
   "execution_count": 9,
   "id": "2f001896",
   "metadata": {},
   "outputs": [
    {
     "data": {
      "text/plain": [
       "2.5"
      ]
     },
     "execution_count": 9,
     "metadata": {},
     "output_type": "execute_result"
    }
   ],
   "source": [
    "# lets pop the item on the second element\n",
    "List_3.pop(2)"
   ]
  },
  {
   "cell_type": "markdown",
   "id": "a965b11c",
   "metadata": {},
   "source": [
    "#### Remove()\n",
    "\n",
    "Removes an item by value, and unlike pop, remove does not return any item\n",
    "\n",
    "for example"
   ]
  },
  {
   "cell_type": "code",
   "execution_count": 10,
   "id": "2036a07a",
   "metadata": {},
   "outputs": [
    {
     "name": "stdout",
     "output_type": "stream",
     "text": [
      "None\n",
      "[1, 3, 4, 5]\n"
     ]
    }
   ],
   "source": [
    "my_list = [1,2,3,4,5]\n",
    "print(my_list.remove(2))\n",
    "print(my_list)"
   ]
  },
  {
   "cell_type": "markdown",
   "id": "9014f1cc",
   "metadata": {},
   "source": [
    "#### Index()\n",
    "Use to find the index position of a value"
   ]
  },
  {
   "cell_type": "code",
   "execution_count": 11,
   "id": "a9306554",
   "metadata": {},
   "outputs": [
    {
     "name": "stdout",
     "output_type": "stream",
     "text": [
      "1\n"
     ]
    }
   ],
   "source": [
    "my_list = [1,2,3,4,5]\n",
    "print(my_list.index(2))"
   ]
  },
  {
   "cell_type": "markdown",
   "id": "e89bb63f",
   "metadata": {},
   "source": [
    "#### Insert()\n",
    "\n",
    "We use the insert method to add to a particular position in a list\n",
    "\n",
    "        Syntax:\n",
    "            insert(index,value)\n",
    "For example:"
   ]
  },
  {
   "cell_type": "code",
   "execution_count": 12,
   "id": "8a1514b8",
   "metadata": {},
   "outputs": [
    {
     "name": "stdout",
     "output_type": "stream",
     "text": [
      "[1, 2, 3, 'New', 4, 5]\n"
     ]
    }
   ],
   "source": [
    "my_list = [1,2,3,4,5]\n",
    "my_list.insert(3,\"New\")\n",
    "print(my_list)"
   ]
  },
  {
   "cell_type": "markdown",
   "id": "71100ae3",
   "metadata": {},
   "source": [
    "#### clear ()\n",
    "\n",
    "we can remove all elements in a list using the clear method\n",
    "\n",
    "for example:"
   ]
  },
  {
   "cell_type": "code",
   "execution_count": 13,
   "id": "71b9ac29",
   "metadata": {},
   "outputs": [
    {
     "data": {
      "text/plain": [
       "[]"
      ]
     },
     "execution_count": 13,
     "metadata": {},
     "output_type": "execute_result"
    }
   ],
   "source": [
    "my_list = [1,2,3,4,5]\n",
    "my_list.clear()\n",
    "my_list"
   ]
  },
  {
   "cell_type": "markdown",
   "id": "3fba350b",
   "metadata": {},
   "source": [
    "#### sort()\n",
    "\n",
    "Helps to sort the elements in our list.\n",
    "\n",
    "for example:"
   ]
  },
  {
   "cell_type": "code",
   "execution_count": 14,
   "id": "b3a7c27d",
   "metadata": {},
   "outputs": [
    {
     "data": {
      "text/plain": [
       "[3, 5, 20, 90, 100]"
      ]
     },
     "execution_count": 14,
     "metadata": {},
     "output_type": "execute_result"
    }
   ],
   "source": [
    "my_list = [90,3,5,20,100]\n",
    "my_list.sort()\n",
    "my_list"
   ]
  },
  {
   "cell_type": "markdown",
   "id": "49eb175b",
   "metadata": {},
   "source": [
    "#### extend()\n",
    "\n",
    "\n",
    "We can use the method extend to add new elements to the list"
   ]
  },
  {
   "cell_type": "code",
   "execution_count": 15,
   "id": "054e83c3",
   "metadata": {},
   "outputs": [
    {
     "data": {
      "text/plain": [
       "[1, 2, 3, 4, 5, 6, 7, 8]"
      ]
     },
     "execution_count": 15,
     "metadata": {},
     "output_type": "execute_result"
    }
   ],
   "source": [
    "my_list = [1,2,3,4]\n",
    "my_list.extend([5,6,7,8])\n",
    "my_list"
   ]
  },
  {
   "cell_type": "markdown",
   "id": "64b55ef0",
   "metadata": {},
   "source": [
    "## Tuples\n",
    "Tuples are very similar to lists in that they store objects of various data types.\n",
    "\n",
    "- A tuple is represented by parentheses, ()\n",
    "- It is immutable i.e the element within a tuple cannot be modified\n",
    "- An index is used to access and refer to items within a tuple.\n",
    "\n",
    "To create a tuple object, we use the tuple literal ( ).\n"
   ]
  },
  {
   "cell_type": "code",
   "execution_count": 38,
   "id": "b7dd831b",
   "metadata": {},
   "outputs": [
    {
     "data": {
      "text/plain": [
       "('Hello', 50, 77.7)"
      ]
     },
     "execution_count": 38,
     "metadata": {},
     "output_type": "execute_result"
    }
   ],
   "source": [
    "tuple_1 = (\"Hello\", 50, 77.7)\n",
    "tuple_1"
   ]
  },
  {
   "cell_type": "code",
   "execution_count": 39,
   "id": "897ebb80",
   "metadata": {},
   "outputs": [
    {
     "data": {
      "text/plain": [
       "tuple"
      ]
     },
     "execution_count": 39,
     "metadata": {},
     "output_type": "execute_result"
    }
   ],
   "source": [
    "type(tuple_1)"
   ]
  },
  {
   "cell_type": "code",
   "execution_count": 40,
   "id": "61f7caf4",
   "metadata": {},
   "outputs": [
    {
     "data": {
      "text/plain": [
       "tuple"
      ]
     },
     "execution_count": 40,
     "metadata": {},
     "output_type": "execute_result"
    }
   ],
   "source": [
    "#we can also convert a list to a tuple\n",
    "\n",
    "List_1 = [1,2,3,4,5,6,7]\n",
    "\n",
    "#convert to tuple\n",
    "\n",
    "List_1 = tuple([1,2,3,4,5,6,7])\n",
    "type(List_1)"
   ]
  },
  {
   "cell_type": "markdown",
   "id": "63e5890f",
   "metadata": {},
   "source": [
    "#### Index\n",
    "\n",
    "The index helps to get the location each element of a tuple\n"
   ]
  },
  {
   "cell_type": "code",
   "execution_count": 41,
   "id": "f7bafe3e",
   "metadata": {},
   "outputs": [
    {
     "name": "stdout",
     "output_type": "stream",
     "text": [
      "0\n"
     ]
    }
   ],
   "source": [
    "print(tuple_1.index(\"Hello\"))"
   ]
  },
  {
   "cell_type": "markdown",
   "id": "4764fe2b",
   "metadata": {},
   "source": [
    "#### Indexing and slicing\n",
    "We can also access the elements of a tuple but we can not change it, because they are immutable"
   ]
  },
  {
   "cell_type": "code",
   "execution_count": 42,
   "id": "6ecc2d91",
   "metadata": {},
   "outputs": [
    {
     "data": {
      "text/plain": [
       "'Hello'"
      ]
     },
     "execution_count": 42,
     "metadata": {},
     "output_type": "execute_result"
    }
   ],
   "source": [
    "tuple_1[0]"
   ]
  },
  {
   "cell_type": "code",
   "execution_count": 43,
   "id": "73d4a270",
   "metadata": {},
   "outputs": [
    {
     "data": {
      "text/plain": [
       "3"
      ]
     },
     "execution_count": 43,
     "metadata": {},
     "output_type": "execute_result"
    }
   ],
   "source": [
    "# We can also get the len od a tuple\n",
    "\n",
    "len(tuple_1)"
   ]
  },
  {
   "cell_type": "markdown",
   "id": "3c48a7b0",
   "metadata": {},
   "source": [
    "#### Concatenate Tuples\n",
    "We can concatenate or combine tuples by using the + sign:"
   ]
  },
  {
   "cell_type": "code",
   "execution_count": 44,
   "id": "d88acd9c",
   "metadata": {},
   "outputs": [
    {
     "data": {
      "text/plain": [
       "('Hello', 50, 77.7, 1, 2, 3, 4, 5)"
      ]
     },
     "execution_count": 44,
     "metadata": {},
     "output_type": "execute_result"
    }
   ],
   "source": [
    "tuple_2= tuple_1 + (1,2,3,4,5)\n",
    "tuple_2"
   ]
  },
  {
   "cell_type": "code",
   "execution_count": 45,
   "id": "92740c37",
   "metadata": {},
   "outputs": [
    {
     "data": {
      "text/plain": [
       "('Hello', 50, 77.7)"
      ]
     },
     "execution_count": 45,
     "metadata": {},
     "output_type": "execute_result"
    }
   ],
   "source": [
    "# Slicing, we can call ou a part of a tuple\n",
    "\n",
    "tuple_3 = tuple_1[0:3]\n",
    "tuple_3"
   ]
  },
  {
   "cell_type": "markdown",
   "id": "cff922dc",
   "metadata": {},
   "source": [
    "#### Sorting\n",
    "\n",
    "We can sort the elements of a tuple\n"
   ]
  },
  {
   "cell_type": "code",
   "execution_count": 1,
   "id": "26f3bbbf",
   "metadata": {},
   "outputs": [
    {
     "data": {
      "text/plain": [
       "[1, 2, 3, 4, 5, 6]"
      ]
     },
     "execution_count": 1,
     "metadata": {},
     "output_type": "execute_result"
    }
   ],
   "source": [
    "die_roll= (4,5,6,2,3,1)\n",
    "\n",
    "die_roll_sorted=sorted(die_roll)\n",
    "die_roll_sorted"
   ]
  },
  {
   "cell_type": "code",
   "execution_count": 2,
   "id": "a8fd8764",
   "metadata": {},
   "outputs": [
    {
     "data": {
      "text/plain": [
       "[6, 5, 4, 3, 2, 1]"
      ]
     },
     "execution_count": 2,
     "metadata": {},
     "output_type": "execute_result"
    }
   ],
   "source": [
    "# sort descending\n",
    "sorted(die_roll, reverse =True)"
   ]
  },
  {
   "cell_type": "markdown",
   "id": "4e8d3cd9",
   "metadata": {},
   "source": [
    "#### Nested Tuple\n",
    " tuple can contain another tuple as well as other data type, this is called \"nesting\"."
   ]
  },
  {
   "cell_type": "code",
   "execution_count": 47,
   "id": "a7b1ee20",
   "metadata": {},
   "outputs": [],
   "source": [
    "Nested_tuple = ((\"Hello\",\"Python\"),(1,2,3,4,5),7,8,(55.4,30.3,(4,5)))"
   ]
  },
  {
   "cell_type": "code",
   "execution_count": 48,
   "id": "59c7b6c1",
   "metadata": {},
   "outputs": [
    {
     "name": "stdout",
     "output_type": "stream",
     "text": [
      "Element 0 ('Hello', 'Python')\n",
      "Element 1 (1, 2, 3, 4, 5)\n",
      "Element 2 7\n",
      "Element 3 8\n",
      "Element 4 (55.4, 30.3, (4, 5))\n"
     ]
    }
   ],
   "source": [
    "#We cn access each each element of the tuple using the index\n",
    "\n",
    "print(\"Element 0\", Nested_tuple[0])\n",
    "print(\"Element 1\", Nested_tuple[1])\n",
    "print(\"Element 2\", Nested_tuple[2])\n",
    "print(\"Element 3\", Nested_tuple[3])\n",
    "print(\"Element 4\", Nested_tuple[4])"
   ]
  },
  {
   "cell_type": "code",
   "execution_count": 49,
   "id": "47e18bd9",
   "metadata": {},
   "outputs": [
    {
     "name": "stdout",
     "output_type": "stream",
     "text": [
      "Element 0 Hello\n",
      "Element 1 Python\n"
     ]
    }
   ],
   "source": [
    "#We can print the element within each tuple using second index\n",
    "print(\"Element 0\", Nested_tuple[0][0])\n",
    "print(\"Element 1\", Nested_tuple[0][1])"
   ]
  },
  {
   "cell_type": "code",
   "execution_count": 50,
   "id": "9078d5b2",
   "metadata": {},
   "outputs": [
    {
     "name": "stdout",
     "output_type": "stream",
     "text": [
      "Element 0 H\n",
      "Element 1 e\n",
      "Element 1 l\n",
      "Element 1 l\n",
      "Element 1 o\n"
     ]
    }
   ],
   "source": [
    "#we can also access each character of the string using the third index\n",
    "print(\"Element 0\", Nested_tuple[0][0][0])\n",
    "print(\"Element 1\", Nested_tuple[0][0][1])\n",
    "print(\"Element 1\", Nested_tuple[0][0][2])\n",
    "print(\"Element 1\", Nested_tuple[0][0][3])\n",
    "print(\"Element 1\", Nested_tuple[0][0][4])"
   ]
  },
  {
   "cell_type": "markdown",
   "id": "89fc66ea",
   "metadata": {},
   "source": [
    "#### Count Method\n",
    "\n",
    "It allows us to count the number of times a value appears in the tuple"
   ]
  },
  {
   "cell_type": "code",
   "execution_count": 51,
   "id": "b08efd33",
   "metadata": {},
   "outputs": [
    {
     "name": "stdout",
     "output_type": "stream",
     "text": [
      "4\n"
     ]
    }
   ],
   "source": [
    "tuple_4 = (1,3,1,4,1,1,\"a\",\"a\",\"d\")\n",
    "print(tuple_4.count(1))"
   ]
  },
  {
   "cell_type": "code",
   "execution_count": 2,
   "id": "b7beee25",
   "metadata": {},
   "outputs": [
    {
     "data": {
      "text/plain": [
       "[1, 1, 2, 3, 4, 5]"
      ]
     },
     "execution_count": 2,
     "metadata": {},
     "output_type": "execute_result"
    }
   ],
   "source": [
    "tuple_9 = (1,4,2,3,1,5)\n",
    "sorted(tuple_9)"
   ]
  },
  {
   "cell_type": "markdown",
   "id": "67e9ecee",
   "metadata": {},
   "source": [
    "## Dictionary\n",
    "\n",
    "A Dictionary is a collection of keys and values.A dictionary can be compared to a list, but nstead of being indexed numerically like a list, dictionaries have keys. \n",
    "\n",
    "Dictionaries use keys and are unordered, they do not support indexing or slicing.These keys are the keys that are used to access values within a dictionary.\n",
    "\n",
    "It represented by a curly bracket.\n",
    "\n",
    "Example of a Dictionary:"
   ]
  },
  {
   "cell_type": "code",
   "execution_count": 65,
   "id": "a7fdf179",
   "metadata": {},
   "outputs": [
    {
     "data": {
      "text/plain": [
       "{'key1': 'Value1',\n",
       " 'key2': 'Value2',\n",
       " 'key3': 'Value3',\n",
       " 'key4': 'Value4',\n",
       " 'key5': 'Value5',\n",
       " 6: 6,\n",
       " 7.1: 7}"
      ]
     },
     "execution_count": 65,
     "metadata": {},
     "output_type": "execute_result"
    }
   ],
   "source": [
    "Dict_1 = {\"key1\":\"Value1\",\"key2\":\"Value2\",\"key3\":\"Value3\",\"key4\":\"Value4\",\"key5\":\"Value5\",6:6,7.1:7}\n",
    "Dict_1"
   ]
  },
  {
   "cell_type": "markdown",
   "id": "18ad8212",
   "metadata": {},
   "source": [
    "Keys can be String, Integer ,float or tuple"
   ]
  },
  {
   "cell_type": "code",
   "execution_count": 66,
   "id": "6a0f9380",
   "metadata": {},
   "outputs": [
    {
     "data": {
      "text/plain": [
       "'Value1'"
      ]
     },
     "execution_count": 66,
     "metadata": {},
     "output_type": "execute_result"
    }
   ],
   "source": [
    "#To access the value of a key:\n",
    "\n",
    "Dict_1[\"key1\"]"
   ]
  },
  {
   "cell_type": "code",
   "execution_count": 67,
   "id": "94528ac6",
   "metadata": {},
   "outputs": [
    {
     "data": {
      "text/plain": [
       "{'key1': 'Value1',\n",
       " 'key2': 'chemistry',\n",
       " 'key3': 'Value3',\n",
       " 'key4': 'Value4',\n",
       " 'key5': 'Value5',\n",
       " 6: 6,\n",
       " 7.1: 7}"
      ]
     },
     "execution_count": 67,
     "metadata": {},
     "output_type": "execute_result"
    }
   ],
   "source": [
    "#We can re-assign the value of a key\n",
    "Dict_1[\"key2\"]=\"chemistry\"\n",
    "Dict_1"
   ]
  },
  {
   "cell_type": "markdown",
   "id": "8b9faae6",
   "metadata": {},
   "source": [
    "### Dictionary Methods\n",
    "\n",
    "#### keys()\n",
    "The key method helps you to retrieve the keys in a dictionary."
   ]
  },
  {
   "cell_type": "code",
   "execution_count": 68,
   "id": "c4c56fdf",
   "metadata": {},
   "outputs": [
    {
     "data": {
      "text/plain": [
       "dict_keys(['key1', 'key2', 'key3', 'key4', 'key5', 6, 7.1])"
      ]
     },
     "execution_count": 68,
     "metadata": {},
     "output_type": "execute_result"
    }
   ],
   "source": [
    "Dict_1.keys()"
   ]
  },
  {
   "cell_type": "markdown",
   "id": "7eda1863",
   "metadata": {},
   "source": [
    "#### values()\n",
    "To retrieve all the values in a dictionary, we use this method"
   ]
  },
  {
   "cell_type": "code",
   "execution_count": 69,
   "id": "c9feb9f4",
   "metadata": {},
   "outputs": [
    {
     "data": {
      "text/plain": [
       "dict_values(['Value1', 'chemistry', 'Value3', 'Value4', 'Value5', 6, 7])"
      ]
     },
     "execution_count": 69,
     "metadata": {},
     "output_type": "execute_result"
    }
   ],
   "source": [
    "Dict_1.values()"
   ]
  },
  {
   "cell_type": "markdown",
   "id": "814670ca",
   "metadata": {},
   "source": [
    "#### del \n",
    "To delete a value associated with a key, we use the del operator."
   ]
  },
  {
   "cell_type": "code",
   "execution_count": 70,
   "id": "990c9cef",
   "metadata": {},
   "outputs": [
    {
     "name": "stdout",
     "output_type": "stream",
     "text": [
      "{'key2': 'chemistry', 'key3': 'Value3', 'key4': 'Value4', 'key5': 'Value5', 6: 6, 7.1: 7}\n"
     ]
    }
   ],
   "source": [
    "del Dict_1[\"key1\"]\n",
    "print(Dict_1)"
   ]
  },
  {
   "cell_type": "markdown",
   "id": "a6b05221",
   "metadata": {},
   "source": [
    "#### Pop\n",
    "The dictionary also has a pop method like list. However, instead of taking in an index as a parameter, the pop method takes in a key. "
   ]
  },
  {
   "cell_type": "code",
   "execution_count": 71,
   "id": "407f1253",
   "metadata": {},
   "outputs": [
    {
     "name": "stdout",
     "output_type": "stream",
     "text": [
      "Value3\n"
     ]
    },
    {
     "data": {
      "text/plain": [
       "{'key2': 'chemistry', 'key4': 'Value4', 'key5': 'Value5', 6: 6, 7.1: 7}"
      ]
     },
     "execution_count": 71,
     "metadata": {},
     "output_type": "execute_result"
    }
   ],
   "source": [
    "print(Dict_1.pop(\"key3\"))\n",
    "\n",
    "Dict_1"
   ]
  },
  {
   "cell_type": "markdown",
   "id": "df7b6cb0",
   "metadata": {},
   "source": [
    "#### items()\n",
    "Returns a list of the items in the dictionary, in form oa tuple containing the (key,value)"
   ]
  },
  {
   "cell_type": "code",
   "execution_count": 72,
   "id": "1f737e77",
   "metadata": {},
   "outputs": [
    {
     "name": "stdout",
     "output_type": "stream",
     "text": [
      "dict_items([('key2', 'chemistry'), ('key4', 'Value4'), ('key5', 'Value5'), (6, 6), (7.1, 7)])\n"
     ]
    }
   ],
   "source": [
    "print(Dict_1.items())"
   ]
  },
  {
   "cell_type": "code",
   "execution_count": 73,
   "id": "06f6b33d",
   "metadata": {},
   "outputs": [
    {
     "name": "stdout",
     "output_type": "stream",
     "text": [
      "{'key2': 'chemistry', 'key4': 'Value4', 'key5': 'Value5', 6: 6, 7.1: 7, 'key8': 'Value8'}\n"
     ]
    }
   ],
   "source": [
    "# To add entry to a dictionary\n",
    "Dict_1[\"key8\"]=\"Value8\"\n",
    "print(Dict_1)"
   ]
  },
  {
   "cell_type": "code",
   "execution_count": 74,
   "id": "906e3bc2",
   "metadata": {},
   "outputs": [
    {
     "data": {
      "text/plain": [
       "True"
      ]
     },
     "execution_count": 74,
     "metadata": {},
     "output_type": "execute_result"
    }
   ],
   "source": [
    "# we can check if an element is in the dictionary\n",
    "\n",
    "\"key4\" in Dict_1"
   ]
  },
  {
   "cell_type": "markdown",
   "id": "36c3e388",
   "metadata": {},
   "source": [
    "#### for loops and in operator\n",
    "We can access the keys or values using iteration"
   ]
  },
  {
   "cell_type": "code",
   "execution_count": 75,
   "id": "7c0463a5",
   "metadata": {},
   "outputs": [
    {
     "name": "stdout",
     "output_type": "stream",
     "text": [
      "key2\n",
      "key4\n",
      "key5\n",
      "6\n",
      "7.1\n",
      "key8\n"
     ]
    }
   ],
   "source": [
    "# To access the keys in the dictionary\n",
    "for key in Dict_1:\n",
    "    print(key)"
   ]
  },
  {
   "cell_type": "code",
   "execution_count": 76,
   "id": "59b16d32",
   "metadata": {},
   "outputs": [
    {
     "name": "stdout",
     "output_type": "stream",
     "text": [
      "chemistry\n",
      "Value4\n",
      "Value5\n",
      "6\n",
      "7\n",
      "Value8\n"
     ]
    }
   ],
   "source": [
    "# To access the values in the dictionary\n",
    "for key in Dict_1:\n",
    "    print(Dict_1[key])"
   ]
  },
  {
   "cell_type": "code",
   "execution_count": 77,
   "id": "58273ef0",
   "metadata": {},
   "outputs": [
    {
     "name": "stdout",
     "output_type": "stream",
     "text": [
      "key2 chemistry\n",
      "key4 Value4\n",
      "key5 Value5\n",
      "6 6\n",
      "7.1 7\n",
      "key8 Value8\n"
     ]
    }
   ],
   "source": [
    "# we combine display both the keys and values\n",
    "for key in Dict_1:\n",
    "    print(key, Dict_1[key])"
   ]
  },
  {
   "cell_type": "markdown",
   "id": "71497e10",
   "metadata": {},
   "source": [
    "## Sets\n",
    "Sets are also similar to lists, but they differ from tuples and lists, because:\n",
    "- Their values are unique  i.e does not allow duplicate values\n",
    "- They are unordered and unindexed\n",
    "- Represented by curlu brackets {}\n",
    "- Sets are mutable"
   ]
  },
  {
   "cell_type": "code",
   "execution_count": 52,
   "id": "4c715562",
   "metadata": {},
   "outputs": [
    {
     "data": {
      "text/plain": [
       "{'Chemistry', 'English', 'Mathematics', 'Physic'}"
      ]
     },
     "execution_count": 52,
     "metadata": {},
     "output_type": "execute_result"
    }
   ],
   "source": [
    "# Lets create a set\n",
    "Set_1 = {\"English\", \"Mathematics\", \"Chemistry\",\"Physic\",\"English\"}\n",
    "Set_1"
   ]
  },
  {
   "cell_type": "code",
   "execution_count": 53,
   "id": "3e87c32e",
   "metadata": {},
   "outputs": [
    {
     "data": {
      "text/plain": [
       "set"
      ]
     },
     "execution_count": 53,
     "metadata": {},
     "output_type": "execute_result"
    }
   ],
   "source": [
    "type(Set_1)"
   ]
  },
  {
   "cell_type": "code",
   "execution_count": 1,
   "id": "20bb860c",
   "metadata": {},
   "outputs": [
    {
     "data": {
      "text/plain": [
       "{'Chemistry', 'Commerce', 'Economics', 'English', 'Mathematics', 'Physic'}"
      ]
     },
     "execution_count": 1,
     "metadata": {},
     "output_type": "execute_result"
    }
   ],
   "source": [
    "# we can convert a list to a set\n",
    "\n",
    "Subject = [\"English\", \"Mathematics\", \"Chemistry\",\"Physic\",\"Commerce\",\"Economics\"]\n",
    "Subject_Set = set(Subject)\n",
    "Subject_Set"
   ]
  },
  {
   "cell_type": "markdown",
   "id": "de60441b",
   "metadata": {},
   "source": [
    "#### Set Operations"
   ]
  },
  {
   "cell_type": "markdown",
   "id": "21e229de",
   "metadata": {},
   "source": [
    "#### add()\n",
    "\n",
    "The add method allows us to add values to a set. \n",
    "\n",
    "Consider a grocery store with the following products"
   ]
  },
  {
   "cell_type": "code",
   "execution_count": 55,
   "id": "844ea4a0",
   "metadata": {},
   "outputs": [
    {
     "data": {
      "text/plain": [
       "{'Beans', 'Garri', 'Rice', 'Salt', 'Semo', 'Wheat'}"
      ]
     },
     "execution_count": 55,
     "metadata": {},
     "output_type": "execute_result"
    }
   ],
   "source": [
    "products={\"Rice\",\"Beans\",\"Garri\",\"Semo\",\"Wheat\",\"Salt\"}\n",
    "products"
   ]
  },
  {
   "cell_type": "code",
   "execution_count": 56,
   "id": "b558ca3f",
   "metadata": {},
   "outputs": [
    {
     "data": {
      "text/plain": [
       "{'Beans', 'Eggs', 'Garri', 'Rice', 'Salt', 'Semo', 'Sugar', 'Wheat'}"
      ]
     },
     "execution_count": 56,
     "metadata": {},
     "output_type": "execute_result"
    }
   ],
   "source": [
    "# add new stock of eggs and sugar\n",
    "\n",
    "products.add(\"Eggs\")\n",
    "products.add(\"Sugar\")\n",
    "products"
   ]
  },
  {
   "cell_type": "markdown",
   "id": "064ade8e",
   "metadata": {},
   "source": [
    "#### remove()"
   ]
  },
  {
   "cell_type": "code",
   "execution_count": 57,
   "id": "29443efc",
   "metadata": {},
   "outputs": [
    {
     "data": {
      "text/plain": [
       "{'Beans', 'Eggs', 'Garri', 'Salt', 'Semo', 'Sugar', 'Wheat'}"
      ]
     },
     "execution_count": 57,
     "metadata": {},
     "output_type": "execute_result"
    }
   ],
   "source": [
    "# we are out of stock for Rice\n",
    "products.remove(\"Rice\")\n",
    "products"
   ]
  },
  {
   "cell_type": "markdown",
   "id": "81d77842",
   "metadata": {},
   "source": [
    "#### clear()\n",
    "\n",
    "It clears off the entire content of the set\n"
   ]
  },
  {
   "cell_type": "code",
   "execution_count": 58,
   "id": "cbb2156d",
   "metadata": {},
   "outputs": [
    {
     "data": {
      "text/plain": [
       "set()"
      ]
     },
     "execution_count": 58,
     "metadata": {},
     "output_type": "execute_result"
    }
   ],
   "source": [
    "products.clear()\n",
    "products"
   ]
  },
  {
   "cell_type": "markdown",
   "id": "2187e439",
   "metadata": {},
   "source": [
    "### Set Operations\n",
    "\n",
    "#### intersection\n",
    "Intersection is a term used to refer to the logical **and**. When comparing two or more sets,it is a set of values that both the original sets have in common."
   ]
  },
  {
   "cell_type": "code",
   "execution_count": 59,
   "id": "44cf9283",
   "metadata": {},
   "outputs": [
    {
     "name": "stdout",
     "output_type": "stream",
     "text": [
      "{'Beans'}\n",
      "{'Beans'}\n"
     ]
    }
   ],
   "source": [
    "set_1 = {\"Rice\",\"Beans\",\"Garri\",\"Semo\"}\n",
    "set_2 = {\"Palm oil\",\"Beans\",\"Wheat\",\"Salt\"}\n",
    "common_products_1 = set_1.intersection(set_2)\n",
    "common_products_2 = set_1 & set_2\n",
    "print(common_products_1)\n",
    "print(common_products_2)"
   ]
  },
  {
   "cell_type": "code",
   "execution_count": 60,
   "id": "342dea8b",
   "metadata": {},
   "outputs": [
    {
     "name": "stdout",
     "output_type": "stream",
     "text": [
      "{'Semo', 'Rice', 'Garri'}\n",
      "{'Semo', 'Rice', 'Garri'}\n"
     ]
    }
   ],
   "source": [
    "# You can find all the elements that are only contained in set_1 using the difference method:\n",
    "\n",
    "print(set_1.difference(set_2))\n",
    "print(set_1 -set_2)"
   ]
  },
  {
   "cell_type": "markdown",
   "id": "4bd068bf",
   "metadata": {},
   "source": [
    "#### union\n",
    "When comparing two or more sets, it is the set containing the combined values of all the individual sets without duplicates(sets does not allow duplicate)."
   ]
  },
  {
   "cell_type": "code",
   "execution_count": 61,
   "id": "064241eb",
   "metadata": {},
   "outputs": [
    {
     "name": "stdout",
     "output_type": "stream",
     "text": [
      "{'Salt', 'Garri', 'Wheat', 'Semo', 'Beans', 'Rice', 'Palm oil'}\n",
      "{'Salt', 'Garri', 'Wheat', 'Semo', 'Beans', 'Rice', 'Palm oil'}\n"
     ]
    }
   ],
   "source": [
    "print(set_1.union(set_2))\n",
    "print(set_1|set_2)"
   ]
  },
  {
   "cell_type": "code",
   "execution_count": 62,
   "id": "de206473",
   "metadata": {},
   "outputs": [],
   "source": [
    "#Class Activity\n",
    "#set_1=(set_1 & set_2)|(set_1 - Set_2), prove"
   ]
  },
  {
   "cell_type": "markdown",
   "id": "69e876fc",
   "metadata": {},
   "source": [
    "#### issubset\n",
    "\n",
    "A subset is a set of elements or values that appear in another set of equal or larger size. \n",
    "\n",
    "#### issuperset\n",
    "A superset is defined as a set of elements or values of which some or all appear in another set of equal or smaller size.\n",
    "\n",
    "#### isdisjoint\n",
    "When comparing two sets and there are no elements in common, we say that the sets are known as disjoint sets."
   ]
  },
  {
   "cell_type": "code",
   "execution_count": 63,
   "id": "27963c74",
   "metadata": {},
   "outputs": [
    {
     "name": "stdout",
     "output_type": "stream",
     "text": [
      "True\n",
      "True\n",
      "True\n"
     ]
    }
   ],
   "source": [
    "set_1={1,2,3,4}\n",
    "set_2={1,2,3,4,5,6,7,8}\n",
    "set_3={9,10}\n",
    "\n",
    "print(set_1.issubset(set_2))\n",
    "print(set_2.issuperset(set_1))\n",
    "print(set_1.isdisjoint(set_3))"
   ]
  },
  {
   "cell_type": "code",
   "execution_count": 64,
   "id": "b3a83837",
   "metadata": {},
   "outputs": [
    {
     "name": "stdout",
     "output_type": "stream",
     "text": [
      "{1, 2, 3, 4}\n",
      "{2, 4}\n"
     ]
    }
   ],
   "source": [
    "set_1 = {1,2,3,4}\n",
    "set_2 = {2,4}\n",
    "\n",
    "intersection_set = set()\n",
    "union_set = set()\n",
    "#find the intersection\n",
    "\n",
    "for elem in set_1:\n",
    "    if elem in set_2:\n",
    "        intersection_set.add(elem)\n",
    "# find if is disjoint\n",
    "\n",
    "if len(intersection_set) == 0:\n",
    "    print(\"sets are disjoint\")\n",
    "    \n",
    "# find the union\n",
    "for elem in set_1 or set_2:\n",
    "    union_set.add(elem)\n",
    "    \n",
    "print(union_set)\n",
    "print(intersection_set)"
   ]
  },
  {
   "cell_type": "code",
   "execution_count": null,
   "id": "9936d786",
   "metadata": {},
   "outputs": [],
   "source": [
    "set_1 = {1,2,3,4}\n",
    "set_2 = {2,4}\n",
    "\n",
    "intersection_set = set()\n",
    "union_set = set()\n",
    "#find the intersection\n",
    "\n",
    "\n",
    "# find if is disjoint\n",
    "\n",
    "\n",
    "    \n",
    "# find the union\n",
    "\n",
    "    \n",
    "print(union_set)\n",
    "print(intersection_set)"
   ]
  },
  {
   "cell_type": "markdown",
   "id": "c14631c3",
   "metadata": {},
   "source": [
    "## Numpy\n",
    "\n",
    "Numpy is the short pronunciation for Numerical Python\n",
    "\n",
    "Travis Oliphant designed NumPy in 2005. It is an open source project.\n",
    "\n",
    "NumPy is a Python library used for working with arrays.\n",
    "\n",
    "It also provides functions for working with linear algebra, fourier transforms, and matrices.\n",
    "\n",
    "### Importance of Numpy\n",
    "\n",
    "We have lists in Python that act as arrays, however they are slow to process.\n",
    "\n",
    "NumPy intends to deliver a 50-fold quicker array object than ordinary Python lists.\n",
    "\n",
    "The array object in NumPy is named ndarray, and it comes with a slew of helper functions to make working with it a breeze.\n",
    "\n",
    "Arrays are very frequently used in data science, where speed and resources are very important\n",
    "\n",
    "### Installing Numpy\n",
    "install using conda install numpy for anaconda Navigator\n",
    "\n",
    "pip install numpy for python IDE"
   ]
  },
  {
   "cell_type": "code",
   "execution_count": 1,
   "id": "813c1a8e",
   "metadata": {},
   "outputs": [],
   "source": [
    "# import numpy\n",
    "\n",
    "import numpy as np  "
   ]
  },
  {
   "cell_type": "markdown",
   "id": "d44b9200",
   "metadata": {},
   "source": [
    "#### Let's create a numpy array"
   ]
  },
  {
   "cell_type": "code",
   "execution_count": 3,
   "id": "7821e4a9",
   "metadata": {},
   "outputs": [
    {
     "data": {
      "text/plain": [
       "array([0, 1, 2, 3, 4, 5])"
      ]
     },
     "execution_count": 3,
     "metadata": {},
     "output_type": "execute_result"
    }
   ],
   "source": [
    "x = np.array([0,1,2,3,4,5])\n",
    "x"
   ]
  },
  {
   "cell_type": "code",
   "execution_count": 8,
   "id": "5adb9f3d",
   "metadata": {},
   "outputs": [
    {
     "data": {
      "text/plain": [
       "array([0, 1, 2, 3, 4, 5, 3])"
      ]
     },
     "execution_count": 8,
     "metadata": {},
     "output_type": "execute_result"
    }
   ],
   "source": [
    "np.append(x,3)"
   ]
  },
  {
   "cell_type": "code",
   "execution_count": 9,
   "id": "223a0324",
   "metadata": {},
   "outputs": [
    {
     "data": {
      "text/plain": [
       "array([0, 1, 2, 3, 4, 5])"
      ]
     },
     "execution_count": 9,
     "metadata": {},
     "output_type": "execute_result"
    }
   ],
   "source": [
    "x"
   ]
  },
  {
   "cell_type": "markdown",
   "id": "48a6fd64",
   "metadata": {},
   "source": [
    "### We access each element of the array"
   ]
  },
  {
   "cell_type": "code",
   "execution_count": 3,
   "id": "d82c9e25",
   "metadata": {},
   "outputs": [
    {
     "name": "stdout",
     "output_type": "stream",
     "text": [
      "0\n"
     ]
    }
   ],
   "source": [
    "print(x[0])"
   ]
  },
  {
   "cell_type": "markdown",
   "id": "942f0f3a",
   "metadata": {},
   "source": [
    "### We can also check the numpy version"
   ]
  },
  {
   "cell_type": "code",
   "execution_count": 4,
   "id": "70ae27f6",
   "metadata": {},
   "outputs": [
    {
     "name": "stdout",
     "output_type": "stream",
     "text": [
      "1.21.5\n"
     ]
    }
   ],
   "source": [
    "print(np.__version__)"
   ]
  },
  {
   "cell_type": "markdown",
   "id": "658324bd",
   "metadata": {},
   "source": [
    "## Data Types in NumPy\n",
    "NumPy has some extra data types, and refer to data types with one character, like i for integers, u for unsigned integers etc.\n",
    "\n",
    "Below is a list of all data types in NumPy and the characters used to represent them.\n",
    "\n",
    "i - integer\n",
    "\n",
    "b - boolean\n",
    "\n",
    "u - unsigned integer\n",
    "\n",
    "f - float\n",
    "\n",
    "c - complex float\n",
    "\n",
    "m - timedelta\n",
    "\n",
    "M - datetime\n",
    "\n",
    "O - object\n",
    "\n",
    "S - string\n",
    "\n",
    "U - unicode string\n",
    "\n",
    "V - fixed chunk of memory for other type ( void )"
   ]
  },
  {
   "cell_type": "markdown",
   "id": "261c6b00",
   "metadata": {},
   "source": [
    "### Type\n",
    "\n",
    "We can check the type of the array and also check the data type of the aaray elements, note, a numpy array contains data of the same type"
   ]
  },
  {
   "cell_type": "code",
   "execution_count": 5,
   "id": "5b31625b",
   "metadata": {},
   "outputs": [
    {
     "data": {
      "text/plain": [
       "numpy.ndarray"
      ]
     },
     "execution_count": 5,
     "metadata": {},
     "output_type": "execute_result"
    }
   ],
   "source": [
    "# check the type of the array\n",
    "type(x)"
   ]
  },
  {
   "cell_type": "code",
   "execution_count": 6,
   "id": "0a646c47",
   "metadata": {},
   "outputs": [
    {
     "data": {
      "text/plain": [
       "dtype('int32')"
      ]
     },
     "execution_count": 6,
     "metadata": {},
     "output_type": "execute_result"
    }
   ],
   "source": [
    "# check the data type stored in your array\n",
    "\n",
    "x.dtype"
   ]
  },
  {
   "cell_type": "markdown",
   "id": "96338709",
   "metadata": {},
   "source": [
    "## Specify data type\n",
    "\n",
    "While creating your arrange you can specify the data type"
   ]
  },
  {
   "cell_type": "code",
   "execution_count": 7,
   "id": "73a83ac8",
   "metadata": {},
   "outputs": [
    {
     "data": {
      "text/plain": [
       "array([1.+0.j, 2.+0.j, 3.+0.j, 4.+0.j, 5.+0.j], dtype=complex64)"
      ]
     },
     "execution_count": 7,
     "metadata": {},
     "output_type": "execute_result"
    }
   ],
   "source": [
    "p= np.array([1,2,3,4,5], dtype=\"F\")\n",
    "p"
   ]
  },
  {
   "cell_type": "code",
   "execution_count": 8,
   "id": "a0ac0159",
   "metadata": {},
   "outputs": [
    {
     "data": {
      "text/plain": [
       "(1+0j)"
      ]
     },
     "execution_count": 8,
     "metadata": {},
     "output_type": "execute_result"
    }
   ],
   "source": [
    "p[0]"
   ]
  },
  {
   "cell_type": "markdown",
   "id": "11285bd1",
   "metadata": {},
   "source": [
    "### you can convert from int32 to int64"
   ]
  },
  {
   "cell_type": "code",
   "execution_count": 9,
   "id": "4e6e9cb6",
   "metadata": {},
   "outputs": [],
   "source": [
    "y = x.astype(np.int64)"
   ]
  },
  {
   "cell_type": "code",
   "execution_count": 10,
   "id": "10b09a22",
   "metadata": {},
   "outputs": [
    {
     "data": {
      "text/plain": [
       "dtype('int64')"
      ]
     },
     "execution_count": 10,
     "metadata": {},
     "output_type": "execute_result"
    }
   ],
   "source": [
    "y.dtype"
   ]
  },
  {
   "cell_type": "code",
   "execution_count": 11,
   "id": "13bf503c",
   "metadata": {},
   "outputs": [
    {
     "data": {
      "text/plain": [
       "array([0, 1, 2, 3, 4, 5])"
      ]
     },
     "execution_count": 11,
     "metadata": {},
     "output_type": "execute_result"
    }
   ],
   "source": [
    "y.astype(np.int32)"
   ]
  },
  {
   "cell_type": "code",
   "execution_count": 12,
   "id": "b8f8686f",
   "metadata": {},
   "outputs": [
    {
     "data": {
      "text/plain": [
       "array([0, 1, 2, 3, 4, 5], dtype=int64)"
      ]
     },
     "execution_count": 12,
     "metadata": {},
     "output_type": "execute_result"
    }
   ],
   "source": [
    "y"
   ]
  },
  {
   "cell_type": "code",
   "execution_count": 13,
   "id": "a141f593",
   "metadata": {},
   "outputs": [],
   "source": [
    "z = np.array([3.1,33.4,5.6,77.5])"
   ]
  },
  {
   "cell_type": "code",
   "execution_count": 14,
   "id": "edcbc842",
   "metadata": {},
   "outputs": [
    {
     "data": {
      "text/plain": [
       "numpy.ndarray"
      ]
     },
     "execution_count": 14,
     "metadata": {},
     "output_type": "execute_result"
    }
   ],
   "source": [
    "type(z)"
   ]
  },
  {
   "cell_type": "code",
   "execution_count": 15,
   "id": "d6786e66",
   "metadata": {},
   "outputs": [
    {
     "data": {
      "text/plain": [
       "dtype('float64')"
      ]
     },
     "execution_count": 15,
     "metadata": {},
     "output_type": "execute_result"
    }
   ],
   "source": [
    "z.dtype"
   ]
  },
  {
   "cell_type": "markdown",
   "id": "6e25c170",
   "metadata": {},
   "source": [
    "#### We can convert from other data type to array"
   ]
  },
  {
   "cell_type": "code",
   "execution_count": 16,
   "id": "32d2d05b",
   "metadata": {},
   "outputs": [],
   "source": [
    "list_1 = [1,2,3,4,5,6]\n",
    "a= np.array(list_1)"
   ]
  },
  {
   "cell_type": "code",
   "execution_count": 17,
   "id": "9d39d682",
   "metadata": {},
   "outputs": [
    {
     "data": {
      "text/plain": [
       "array([1, 2, 3, 4, 5, 6])"
      ]
     },
     "execution_count": 17,
     "metadata": {},
     "output_type": "execute_result"
    }
   ],
   "source": [
    "a"
   ]
  },
  {
   "cell_type": "code",
   "execution_count": 18,
   "id": "9140d877",
   "metadata": {},
   "outputs": [
    {
     "data": {
      "text/plain": [
       "numpy.ndarray"
      ]
     },
     "execution_count": 18,
     "metadata": {},
     "output_type": "execute_result"
    }
   ],
   "source": [
    "type(a)"
   ]
  },
  {
   "cell_type": "code",
   "execution_count": 19,
   "id": "00aa3006",
   "metadata": {},
   "outputs": [
    {
     "data": {
      "text/plain": [
       "dtype('int32')"
      ]
     },
     "execution_count": 19,
     "metadata": {},
     "output_type": "execute_result"
    }
   ],
   "source": [
    "a.dtype"
   ]
  },
  {
   "cell_type": "code",
   "execution_count": 20,
   "id": "6241b9e7",
   "metadata": {},
   "outputs": [],
   "source": [
    "tuple_1 = (1,2,3,4,5)"
   ]
  },
  {
   "cell_type": "code",
   "execution_count": 21,
   "id": "06186cf8",
   "metadata": {},
   "outputs": [],
   "source": [
    "b = np.array(tuple_1)"
   ]
  },
  {
   "cell_type": "code",
   "execution_count": 22,
   "id": "fd5a39e8",
   "metadata": {},
   "outputs": [
    {
     "data": {
      "text/plain": [
       "array([1, 2, 3, 4, 5])"
      ]
     },
     "execution_count": 22,
     "metadata": {},
     "output_type": "execute_result"
    }
   ],
   "source": [
    "b"
   ]
  },
  {
   "cell_type": "code",
   "execution_count": 23,
   "id": "dd58ab12",
   "metadata": {},
   "outputs": [
    {
     "data": {
      "text/plain": [
       "dtype('int32')"
      ]
     },
     "execution_count": 23,
     "metadata": {},
     "output_type": "execute_result"
    }
   ],
   "source": [
    "b.dtype"
   ]
  },
  {
   "cell_type": "markdown",
   "id": "3b91b98c",
   "metadata": {},
   "source": [
    "### You can re-assign the value of an array"
   ]
  },
  {
   "cell_type": "code",
   "execution_count": 24,
   "id": "5a14a3db",
   "metadata": {},
   "outputs": [
    {
     "data": {
      "text/plain": [
       "array([ 1, 50,  3,  4,  5,  6])"
      ]
     },
     "execution_count": 24,
     "metadata": {},
     "output_type": "execute_result"
    }
   ],
   "source": [
    "a[1]=50\n",
    "a"
   ]
  },
  {
   "cell_type": "markdown",
   "id": "bba8cd94",
   "metadata": {},
   "source": [
    "### Slicing\n",
    "\n",
    "Slicing can also pe perform in numpy, it is like coping a part of a variable"
   ]
  },
  {
   "cell_type": "code",
   "execution_count": 25,
   "id": "d4944660",
   "metadata": {},
   "outputs": [
    {
     "data": {
      "text/plain": [
       "array([ 1, 50,  3])"
      ]
     },
     "execution_count": 25,
     "metadata": {},
     "output_type": "execute_result"
    }
   ],
   "source": [
    "c = a[0:3]\n",
    "c"
   ]
  },
  {
   "cell_type": "markdown",
   "id": "201ebfa9",
   "metadata": {},
   "source": [
    "### You can also re-assign as follow"
   ]
  },
  {
   "cell_type": "code",
   "execution_count": 26,
   "id": "e8047c30",
   "metadata": {},
   "outputs": [
    {
     "data": {
      "text/plain": [
       "array([  1,  50, 350, 230, 678,   6])"
      ]
     },
     "execution_count": 26,
     "metadata": {},
     "output_type": "execute_result"
    }
   ],
   "source": [
    "a[2:5] = 350,230,678\n",
    "a"
   ]
  },
  {
   "cell_type": "code",
   "execution_count": 27,
   "id": "0e57c927",
   "metadata": {},
   "outputs": [
    {
     "data": {
      "text/plain": [
       "1"
      ]
     },
     "execution_count": 27,
     "metadata": {},
     "output_type": "execute_result"
    }
   ],
   "source": [
    "a[0]"
   ]
  },
  {
   "cell_type": "markdown",
   "id": "da93417f",
   "metadata": {},
   "source": [
    "### We can also slice by step"
   ]
  },
  {
   "cell_type": "code",
   "execution_count": 28,
   "id": "0065df86",
   "metadata": {},
   "outputs": [
    {
     "name": "stdout",
     "output_type": "stream",
     "text": [
      "[  1 350 678]\n"
     ]
    }
   ],
   "source": [
    "print(a[0:5:2])"
   ]
  },
  {
   "cell_type": "markdown",
   "id": "ebf6dc86",
   "metadata": {},
   "source": [
    "## print out the odd numbers in the given array\n",
    "\n",
    "d =([1,2,3,4,5,6,7,8,9,10])"
   ]
  },
  {
   "cell_type": "markdown",
   "id": "6d88185e",
   "metadata": {},
   "source": [
    "#### We can assign value using the list\n"
   ]
  },
  {
   "cell_type": "code",
   "execution_count": 32,
   "id": "5546aef4",
   "metadata": {},
   "outputs": [
    {
     "data": {
      "text/plain": [
       "[0, 1, 2, 3, 4]"
      ]
     },
     "execution_count": 32,
     "metadata": {},
     "output_type": "execute_result"
    }
   ],
   "source": [
    "list_index = [0,1,2,3,4]\n",
    "list_index"
   ]
  },
  {
   "cell_type": "code",
   "execution_count": 33,
   "id": "13e61b82",
   "metadata": {},
   "outputs": [
    {
     "data": {
      "text/plain": [
       "array([  1,  50, 350, 230, 678])"
      ]
     },
     "execution_count": 33,
     "metadata": {},
     "output_type": "execute_result"
    }
   ],
   "source": [
    "# let's call out the values on the list_index\n",
    "\n",
    "f = a[list_index]\n",
    "f"
   ]
  },
  {
   "cell_type": "markdown",
   "id": "b13c5274",
   "metadata": {},
   "source": [
    "## We re_assign based on the index"
   ]
  },
  {
   "cell_type": "code",
   "execution_count": 36,
   "id": "0c8d856d",
   "metadata": {},
   "outputs": [
    {
     "data": {
      "text/plain": [
       "array([800, 200, 300,   9,   4,   6])"
      ]
     },
     "execution_count": 36,
     "metadata": {},
     "output_type": "execute_result"
    }
   ],
   "source": [
    "a[list_index] = 800,200,300,9,4\n",
    "a"
   ]
  },
  {
   "cell_type": "markdown",
   "id": "d0c561c3",
   "metadata": {},
   "source": [
    "#### Checking the size\n",
    "\n",
    "Size is the number of elements in an array"
   ]
  },
  {
   "cell_type": "code",
   "execution_count": null,
   "id": "d62878bf",
   "metadata": {},
   "outputs": [],
   "source": [
    "a.size"
   ]
  },
  {
   "cell_type": "markdown",
   "id": "82f578d6",
   "metadata": {},
   "source": [
    "#### checking the array dimension or rank"
   ]
  },
  {
   "cell_type": "code",
   "execution_count": null,
   "id": "473bd596",
   "metadata": {},
   "outputs": [],
   "source": [
    "a.ndim # it is a 1 dimensional array (1d array)"
   ]
  },
  {
   "cell_type": "markdown",
   "id": "ae5311af",
   "metadata": {},
   "source": [
    "### checking the shape of the array"
   ]
  },
  {
   "cell_type": "code",
   "execution_count": null,
   "id": "aab64c3e",
   "metadata": {},
   "outputs": [],
   "source": [
    "a.shape"
   ]
  },
  {
   "cell_type": "markdown",
   "id": "30a89f2d",
   "metadata": {},
   "source": [
    "#### Find the size of the array below\n",
    "\n",
    "g = np.array([33,23,55,66,12,55,89])"
   ]
  },
  {
   "cell_type": "markdown",
   "id": "2dfa5f0c",
   "metadata": {},
   "source": [
    "### Statistical Function"
   ]
  },
  {
   "cell_type": "code",
   "execution_count": null,
   "id": "dac2c920",
   "metadata": {},
   "outputs": [],
   "source": [
    "y = np.array([3,4,5,6,7])"
   ]
  },
  {
   "cell_type": "markdown",
   "id": "6efa32dc",
   "metadata": {},
   "source": [
    "#### mean"
   ]
  },
  {
   "cell_type": "code",
   "execution_count": null,
   "id": "4061813e",
   "metadata": {},
   "outputs": [],
   "source": [
    "y_mean = y.mean()\n",
    "y_mean"
   ]
  },
  {
   "cell_type": "markdown",
   "id": "948448d6",
   "metadata": {},
   "source": [
    "#### standard deviation"
   ]
  },
  {
   "cell_type": "code",
   "execution_count": null,
   "id": "e7d2caa2",
   "metadata": {},
   "outputs": [],
   "source": [
    "y_std = y.std()\n",
    "y_std"
   ]
  },
  {
   "cell_type": "markdown",
   "id": "7be6810d",
   "metadata": {},
   "source": [
    "#### max and min"
   ]
  },
  {
   "cell_type": "code",
   "execution_count": null,
   "id": "653ac4d4",
   "metadata": {},
   "outputs": [],
   "source": [
    "y_max = y.max()\n",
    "print(y_max)\n",
    "\n",
    "y_min = y.min()\n",
    "print(y_min)"
   ]
  },
  {
   "cell_type": "code",
   "execution_count": null,
   "id": "74372477",
   "metadata": {},
   "outputs": [],
   "source": [
    "import numpy as np"
   ]
  },
  {
   "cell_type": "code",
   "execution_count": null,
   "id": "69f1e179",
   "metadata": {},
   "outputs": [],
   "source": [
    "z=np.median(y)\n",
    "z"
   ]
  },
  {
   "cell_type": "code",
   "execution_count": null,
   "id": "9a750fc2",
   "metadata": {},
   "outputs": [],
   "source": []
  },
  {
   "cell_type": "code",
   "execution_count": null,
   "id": "84ee7efc",
   "metadata": {},
   "outputs": [],
   "source": []
  },
  {
   "cell_type": "markdown",
   "id": "b2a1fd12",
   "metadata": {},
   "source": [
    "### Calculate the mean, median, min and max value of the data below"
   ]
  },
  {
   "cell_type": "markdown",
   "id": "1b5e313b",
   "metadata": {},
   "source": [
    "### Operation"
   ]
  },
  {
   "cell_type": "markdown",
   "id": "2ea45898",
   "metadata": {},
   "source": [
    "#### Addition"
   ]
  },
  {
   "cell_type": "code",
   "execution_count": null,
   "id": "e3b9bfa7",
   "metadata": {},
   "outputs": [],
   "source": [
    "import numpy as np"
   ]
  },
  {
   "cell_type": "code",
   "execution_count": null,
   "id": "c2b7f965",
   "metadata": {},
   "outputs": [],
   "source": [
    "x = np.array([34,55,66,77,88])\n",
    "y = np.array([23,44,55,66,98])"
   ]
  },
  {
   "cell_type": "code",
   "execution_count": null,
   "id": "8e0c36b7",
   "metadata": {},
   "outputs": [],
   "source": [
    "z = np.add(x, y)\n",
    "z"
   ]
  },
  {
   "cell_type": "markdown",
   "id": "f78446bb",
   "metadata": {},
   "source": [
    "#### Subtraction\n"
   ]
  },
  {
   "cell_type": "code",
   "execution_count": null,
   "id": "571af996",
   "metadata": {},
   "outputs": [],
   "source": [
    "p = np.subtract(x ,y)\n",
    "p"
   ]
  },
  {
   "cell_type": "markdown",
   "id": "ab748686",
   "metadata": {},
   "source": [
    "#### Multiplication"
   ]
  },
  {
   "cell_type": "code",
   "execution_count": null,
   "id": "f9a24b1c",
   "metadata": {},
   "outputs": [],
   "source": [
    "r = np.multiply(x,y)\n",
    "r"
   ]
  },
  {
   "cell_type": "code",
   "execution_count": null,
   "id": "bac90be4",
   "metadata": {},
   "outputs": [],
   "source": [
    "## we can also multiply a vector by a scalar\n",
    "\n",
    "q = np.multiply(x,2)\n",
    "q"
   ]
  },
  {
   "cell_type": "markdown",
   "id": "d9d0b49e",
   "metadata": {},
   "source": [
    "#### Division\n",
    "\n"
   ]
  },
  {
   "cell_type": "code",
   "execution_count": null,
   "id": "d06b3a44",
   "metadata": {},
   "outputs": [],
   "source": [
    "t = np.array([50,100,150])\n",
    "t"
   ]
  },
  {
   "cell_type": "code",
   "execution_count": null,
   "id": "0731606f",
   "metadata": {},
   "outputs": [],
   "source": [
    "k = np.array([5,10,15])\n",
    "k"
   ]
  },
  {
   "cell_type": "code",
   "execution_count": null,
   "id": "8d7564d9",
   "metadata": {},
   "outputs": [],
   "source": [
    "n = np.divide(t,k)\n",
    "n"
   ]
  },
  {
   "cell_type": "markdown",
   "id": "86a4cec8",
   "metadata": {},
   "source": [
    "### Dot Product"
   ]
  },
  {
   "cell_type": "code",
   "execution_count": null,
   "id": "aa471325",
   "metadata": {},
   "outputs": [],
   "source": [
    "x=np.array([5,5])\n",
    "y = np.array([2,2])"
   ]
  },
  {
   "cell_type": "code",
   "execution_count": null,
   "id": "fd47b46f",
   "metadata": {},
   "outputs": [],
   "source": [
    "y"
   ]
  },
  {
   "cell_type": "code",
   "execution_count": null,
   "id": "0b4c7376",
   "metadata": {},
   "outputs": [],
   "source": [
    "np.dot(x,y)\n"
   ]
  },
  {
   "cell_type": "code",
   "execution_count": null,
   "id": "84a80022",
   "metadata": {},
   "outputs": [],
   "source": [
    "print(x[0])\n",
    "print(x[1])"
   ]
  },
  {
   "cell_type": "markdown",
   "id": "3d59b80a",
   "metadata": {},
   "source": [
    "### Adding constant to Numpy Array\n"
   ]
  },
  {
   "cell_type": "code",
   "execution_count": null,
   "id": "c05e7f1f",
   "metadata": {},
   "outputs": [],
   "source": [
    "p = np.array([1,2,3,4,5,6])\n",
    "p"
   ]
  },
  {
   "cell_type": "code",
   "execution_count": null,
   "id": "7ebd6716",
   "metadata": {},
   "outputs": [],
   "source": [
    "p + 5"
   ]
  },
  {
   "cell_type": "markdown",
   "id": "a45d12da",
   "metadata": {},
   "source": [
    "### Mathematical Function"
   ]
  },
  {
   "cell_type": "code",
   "execution_count": null,
   "id": "ce06de9d",
   "metadata": {},
   "outputs": [],
   "source": [
    "# pi\n",
    "\n",
    "np.pi"
   ]
  },
  {
   "cell_type": "code",
   "execution_count": null,
   "id": "b5394f5c",
   "metadata": {},
   "outputs": [],
   "source": [
    "# create the numpy array in radians\n",
    "\n",
    "x = np.array([0,np.pi/2,np.pi])"
   ]
  },
  {
   "cell_type": "code",
   "execution_count": null,
   "id": "94735cda",
   "metadata": {},
   "outputs": [],
   "source": [
    "x"
   ]
  },
  {
   "cell_type": "markdown",
   "id": "1e912297",
   "metadata": {},
   "source": [
    "#### We can apply the sin to the array x"
   ]
  },
  {
   "cell_type": "code",
   "execution_count": null,
   "id": "c683c3bd",
   "metadata": {},
   "outputs": [],
   "source": [
    "d = np.sin(x)\n",
    "d"
   ]
  },
  {
   "cell_type": "markdown",
   "id": "ecff9b1c",
   "metadata": {},
   "source": [
    "#### Linespace\n",
    "\n",
    "Linespace returns an evenly spaces numbers over a specified interval.\n",
    "\n",
    "Syntax:\n",
    "numpy.linspace(start, stop, num = int value)\n",
    "\n",
    "start : start of interval range\n",
    "\n",
    "stop : end of interval range\n",
    "\n",
    "num : Number of samples to generate."
   ]
  },
  {
   "cell_type": "code",
   "execution_count": null,
   "id": "be3548d7",
   "metadata": {},
   "outputs": [],
   "source": [
    "# numpy array within -5,5 with 9 elements\n",
    "\n",
    "np.linspace(-5,5, num = 5)"
   ]
  },
  {
   "cell_type": "markdown",
   "id": "48787ba2",
   "metadata": {},
   "source": [
    "###### We can use the function linspace to generate 100 evenly spaced samples from the interval 0 to 2π:"
   ]
  },
  {
   "cell_type": "code",
   "execution_count": null,
   "id": "4b36a789",
   "metadata": {},
   "outputs": [],
   "source": [
    "r = np.linspace(0, 2*np.pi, num = 100)\n",
    "r"
   ]
  },
  {
   "cell_type": "code",
   "execution_count": null,
   "id": "8ad58330",
   "metadata": {},
   "outputs": [],
   "source": [
    "# let's apply the sine function\n",
    "\n",
    "p = np.sin(r)"
   ]
  },
  {
   "cell_type": "code",
   "execution_count": null,
   "id": "3acb8b8c",
   "metadata": {},
   "outputs": [],
   "source": [
    "p"
   ]
  },
  {
   "cell_type": "code",
   "execution_count": null,
   "id": "56b3c60a",
   "metadata": {},
   "outputs": [],
   "source": [
    "import matplotlib.pyplot as plt\n",
    "%matplotlib inline"
   ]
  },
  {
   "cell_type": "code",
   "execution_count": null,
   "id": "55e39c96",
   "metadata": {},
   "outputs": [],
   "source": [
    "plt.plot(r,p)"
   ]
  },
  {
   "cell_type": "markdown",
   "id": "096228e7",
   "metadata": {},
   "source": [
    "### Iterating \n",
    "When we iterate over a 1-D array, each element is examined one by one.\n",
    "\n",
    "We obtain **the array format** if we run the numpy array"
   ]
  },
  {
   "cell_type": "code",
   "execution_count": null,
   "id": "bbb12d9e",
   "metadata": {},
   "outputs": [],
   "source": [
    "array_1 = np.array([4,5,6,7])\n",
    "print(array_1)"
   ]
  },
  {
   "cell_type": "markdown",
   "id": "59406566",
   "metadata": {},
   "source": [
    "However, if you want the result to be in the form of a list, you can use the for loop:"
   ]
  },
  {
   "cell_type": "code",
   "execution_count": null,
   "id": "f24d3f04",
   "metadata": {},
   "outputs": [],
   "source": [
    "for x in array_1:\n",
    "    print(x)"
   ]
  },
  {
   "cell_type": "markdown",
   "id": "76791587",
   "metadata": {},
   "source": [
    "### Class Activity\n",
    "\n",
    "h = [1,2,3]\n",
    "g = [4,5,6]\n",
    "Do the following:\n",
    " 1. Create a numpy  array\n",
    " 2. perform the following operations:\n",
    " Addition\n",
    " Subtraction\n",
    " multiplication\n",
    " dot operation\n",
    " "
   ]
  },
  {
   "cell_type": "markdown",
   "id": "2454a606",
   "metadata": {},
   "source": [
    "## Dimension of Array\n",
    "\n",
    "so far we have being working on a 1-D array, there are other dimension or ranks of array.\n",
    "\n",
    "## Scalar\n",
    "Refers to a single element"
   ]
  },
  {
   "cell_type": "code",
   "execution_count": null,
   "id": "47d58fcf",
   "metadata": {},
   "outputs": [],
   "source": [
    "scalar = np.array(65)\n",
    "\n",
    "print(scalar)\n",
    "\n",
    "scalar.ndim"
   ]
  },
  {
   "cell_type": "markdown",
   "id": "dafa5cb2",
   "metadata": {},
   "source": [
    "## 1-D Array\n",
    "\n",
    "Also known as a uni-dimensional array"
   ]
  },
  {
   "cell_type": "code",
   "execution_count": null,
   "id": "7a2d4a0a",
   "metadata": {},
   "outputs": [],
   "source": [
    "one_d_array =np.array([1,2,3,4,5,6])\n",
    "print(one_d_array)"
   ]
  },
  {
   "cell_type": "markdown",
   "id": "ee5b1bc9",
   "metadata": {},
   "source": [
    " ## 2-D Array"
   ]
  },
  {
   "cell_type": "code",
   "execution_count": null,
   "id": "5d0407d4",
   "metadata": {},
   "outputs": [],
   "source": [
    "# Create a list\n",
    "\n",
    "b = [[11,12,13],[21,22,23],[31,32,33]]\n",
    "b"
   ]
  },
  {
   "cell_type": "code",
   "execution_count": null,
   "id": "93dc7ae4",
   "metadata": {},
   "outputs": [],
   "source": [
    "# Convert to Numpy\n",
    "\n",
    "B = np.array(b)\n",
    "B"
   ]
  },
  {
   "cell_type": "markdown",
   "id": "60917643",
   "metadata": {},
   "source": [
    "The attribute ndim can be used to get the number of axes or dimensions, often known as the rank."
   ]
  },
  {
   "cell_type": "code",
   "execution_count": null,
   "id": "0cc5f1d1",
   "metadata": {},
   "outputs": [],
   "source": [
    "# Numpy dimension or rank\n",
    "\n",
    "B.ndim"
   ]
  },
  {
   "cell_type": "markdown",
   "id": "e9e11adb",
   "metadata": {},
   "source": [
    "The size or number of each dimension is returned by attribute shape as a tuple."
   ]
  },
  {
   "cell_type": "code",
   "execution_count": null,
   "id": "0aca10f9",
   "metadata": {},
   "outputs": [],
   "source": [
    "# shape of numpy\n",
    "B.shape"
   ]
  },
  {
   "cell_type": "markdown",
   "id": "de80fbcc",
   "metadata": {},
   "source": [
    "The attribute size specifies the total number of elements in the array."
   ]
  },
  {
   "cell_type": "code",
   "execution_count": null,
   "id": "1ff20f81",
   "metadata": {},
   "outputs": [],
   "source": [
    "# Size\n",
    "B.size"
   ]
  },
  {
   "cell_type": "markdown",
   "id": "755809a6",
   "metadata": {},
   "source": [
    "## Access to Numpy Elements\n",
    "Rectangular brackets can be used to access the array's various elements."
   ]
  },
  {
   "cell_type": "code",
   "execution_count": null,
   "id": "9effd0c5",
   "metadata": {},
   "outputs": [],
   "source": [
    "# Access the element on the second row and third column\n",
    "\n",
    "B[1, 2]"
   ]
  },
  {
   "cell_type": "code",
   "execution_count": null,
   "id": "b8a63a3b",
   "metadata": {},
   "outputs": [],
   "source": [
    "# Access the element on the second row and third column\n",
    "\n",
    "B[1][2]"
   ]
  },
  {
   "cell_type": "code",
   "execution_count": null,
   "id": "c1e1d0e0",
   "metadata": {},
   "outputs": [],
   "source": [
    "# Access the element on the first row and first column\n",
    "\n",
    "B[0][0]"
   ]
  },
  {
   "cell_type": "markdown",
   "id": "26ac54fd",
   "metadata": {},
   "source": [
    "### Slicing"
   ]
  },
  {
   "cell_type": "code",
   "execution_count": null,
   "id": "fc088aed",
   "metadata": {},
   "outputs": [],
   "source": [
    "# Access the element on the first row and first and second columns\n",
    "\n",
    "B[0][0:2]"
   ]
  },
  {
   "cell_type": "code",
   "execution_count": null,
   "id": "ea0ceddf",
   "metadata": {},
   "outputs": [],
   "source": [
    "# Access the element on the second row and first to third columns\n",
    "B[1][0:3]"
   ]
  },
  {
   "cell_type": "code",
   "execution_count": null,
   "id": "f72bda18",
   "metadata": {},
   "outputs": [],
   "source": [
    "# Access the element on the first and second rows and third column\n",
    "\n",
    "B[0:2, 2]"
   ]
  },
  {
   "cell_type": "markdown",
   "id": "3849b6c2",
   "metadata": {},
   "source": [
    "## Arithmetic Operations\n",
    "\n",
    "### Addition"
   ]
  },
  {
   "cell_type": "code",
   "execution_count": null,
   "id": "f2a92274",
   "metadata": {},
   "outputs": [],
   "source": [
    "# Create a numpy array X and Y\n",
    "X = np.array([[1,0],[0,1]])\n",
    "Y = np.array([[2,1],[1,2]])"
   ]
  },
  {
   "cell_type": "code",
   "execution_count": null,
   "id": "1c6d6cbd",
   "metadata": {},
   "outputs": [],
   "source": [
    "# Add the two arrays\n",
    "\n",
    "p = X + Y\n",
    "p"
   ]
  },
  {
   "cell_type": "markdown",
   "id": "6100c8f1",
   "metadata": {},
   "source": [
    "### Multiplication\n",
    "\n",
    "A numpy array multiplied by a scaler is the same as a matrix multiplied by a scaler. When we multiply the matrix Y by the scaler 2, every element in the matrix is multiplied by two, as illustrated below."
   ]
  },
  {
   "cell_type": "code",
   "execution_count": null,
   "id": "bf80dc1b",
   "metadata": {},
   "outputs": [],
   "source": [
    "Z = 2 *Y\n",
    "Z"
   ]
  },
  {
   "cell_type": "markdown",
   "id": "74bf3833",
   "metadata": {},
   "source": [
    "## Multiplication of 2 array\n",
    "An element-wise product, also known as a Hadamard product, is the result of multiplying two arrays. For example,matrices X and Y. Multiplying elements in the same location will produce a new matrix of the same size as matrix Y or X."
   ]
  },
  {
   "cell_type": "code",
   "execution_count": null,
   "id": "80e325dc",
   "metadata": {},
   "outputs": [],
   "source": [
    "print(X)"
   ]
  },
  {
   "cell_type": "code",
   "execution_count": null,
   "id": "684041e2",
   "metadata": {},
   "outputs": [],
   "source": [
    "print(Y)"
   ]
  },
  {
   "cell_type": "code",
   "execution_count": null,
   "id": "f53742b3",
   "metadata": {},
   "outputs": [],
   "source": [
    "# Multiplying X by Y\n",
    "Z = X * Y\n",
    "Z"
   ]
  },
  {
   "cell_type": "markdown",
   "id": "de7070b7",
   "metadata": {},
   "source": [
    "## Numpy dot\n",
    "Matrix multiplication can also be done with the numpy arrays A and B, as seen below."
   ]
  },
  {
   "cell_type": "code",
   "execution_count": null,
   "id": "8457f303",
   "metadata": {},
   "outputs": [],
   "source": [
    "A = np.array([[0,1,1],[1,0,1]])\n",
    "A"
   ]
  },
  {
   "cell_type": "code",
   "execution_count": null,
   "id": "dbda786d",
   "metadata": {},
   "outputs": [],
   "source": [
    "B = np.array([[1,1],[1,1],[-1,1]])\n",
    "B"
   ]
  },
  {
   "cell_type": "markdown",
   "id": "725f6707",
   "metadata": {},
   "source": [
    "To multiply the arrays together, we use the numpy function dot."
   ]
  },
  {
   "cell_type": "code",
   "execution_count": null,
   "id": "f25c7064",
   "metadata": {},
   "outputs": [],
   "source": [
    "C = np.dot(A,B)\n",
    "C"
   ]
  },
  {
   "cell_type": "code",
   "execution_count": null,
   "id": "02150e5e",
   "metadata": {},
   "outputs": [],
   "source": [
    "np.sin(C)"
   ]
  },
  {
   "cell_type": "markdown",
   "id": "fe2f46dd",
   "metadata": {},
   "source": [
    "## Transpose\n",
    "\n",
    "The numpy attribute T can be used to calculate the transposed matrix"
   ]
  },
  {
   "cell_type": "code",
   "execution_count": null,
   "id": "9445f869",
   "metadata": {},
   "outputs": [],
   "source": [
    "# Create a matrix D\n",
    "\n",
    "D = np.array([[1,1],[2,2],[3,3]])\n",
    "D"
   ]
  },
  {
   "cell_type": "code",
   "execution_count": null,
   "id": "870c28c6",
   "metadata": {},
   "outputs": [],
   "source": [
    "# Get the transposed of C\n",
    "\n",
    "D.T"
   ]
  },
  {
   "cell_type": "markdown",
   "id": "a953e89a",
   "metadata": {},
   "source": [
    "## Class Activity\n",
    "X = [[1, 2, 3, 4], [5, 6, 7, 8], [9, 10, 11, 12]]\n",
    "\n",
    "Do the following:\n",
    "1. Convert to a numpy array\n",
    "\n",
    "2. size\n",
    "\n",
    "3. Access the element on the second row and first and second columns.\n",
    "\n",
    "4. Perform matrix multiplication with the numpy arrays X and Y\n",
    "\n",
    "Given Y as [[0, 1], [1, 0], [1, 1], [-1, 0]]\n"
   ]
  },
  {
   "cell_type": "markdown",
   "id": "667fc430",
   "metadata": {},
   "source": [
    "# Copy and View"
   ]
  },
  {
   "cell_type": "markdown",
   "id": "81530b6c",
   "metadata": {},
   "source": [
    "The primary distinction between a copy and a view of an array is that the copy creates a new array, whereas the view simply displays the original array.\n",
    "\n",
    "Any modifications made to the copy will have no effect on the original array, and any changes made to the original array will have no effect on the copy.\n",
    "\n",
    "\n",
    "\n",
    "The view does not own the data, therefore any changes to the view will have an impact on the original array, and any changes to the original array will have an impact on the view."
   ]
  },
  {
   "cell_type": "code",
   "execution_count": null,
   "id": "96040f39",
   "metadata": {},
   "outputs": [],
   "source": [
    "# Copy\n",
    "\n",
    "g = np.array([1,2,3,4,5])\n",
    "h = g.copy()\n",
    "g[1]=6\n",
    "\n",
    "print(g)\n",
    "print(h)"
   ]
  },
  {
   "cell_type": "code",
   "execution_count": null,
   "id": "aa4c20ba",
   "metadata": {},
   "outputs": [],
   "source": [
    "# View\n",
    "g = np.array([1,2,3,4,5])\n",
    "k = g.view()\n",
    "g[1]=6\n",
    "\n",
    "print(g)\n",
    "print(k)"
   ]
  },
  {
   "cell_type": "code",
   "execution_count": null,
   "id": "a15352ac",
   "metadata": {},
   "outputs": [],
   "source": [
    "k[3] = 15\n",
    "\n",
    "print(g)\n",
    "print(k)"
   ]
  },
  {
   "cell_type": "markdown",
   "id": "3a7972c8",
   "metadata": {},
   "source": [
    "## Check the data owner\n",
    "\n",
    "As previously stated, copies own the data, whereas views do not, but how can we verify this?\n",
    "\n",
    "The base attribute in NumPy arrays returns None if the array owns the data.\n",
    "\n",
    "The base attribute otherwise refers to the original object."
   ]
  },
  {
   "cell_type": "code",
   "execution_count": null,
   "id": "5b090fe9",
   "metadata": {},
   "outputs": [],
   "source": [
    "array_1 = np.array([1,2,3,4,5])\n",
    "x= array_1.copy()\n",
    "y=array_1.view()\n",
    "\n",
    "print(x.base)\n",
    "print(y.base)"
   ]
  },
  {
   "cell_type": "markdown",
   "id": "b059d1dc",
   "metadata": {},
   "source": [
    "### Subsetting using boolean "
   ]
  },
  {
   "cell_type": "code",
   "execution_count": null,
   "id": "f134b259",
   "metadata": {},
   "outputs": [],
   "source": [
    "y=np.array([1,2,3,4,5])\n",
    "z = y>2"
   ]
  },
  {
   "cell_type": "code",
   "execution_count": null,
   "id": "c54b7734",
   "metadata": {},
   "outputs": [],
   "source": [
    "print(z)"
   ]
  },
  {
   "cell_type": "code",
   "execution_count": null,
   "id": "346ce90c",
   "metadata": {},
   "outputs": [],
   "source": [
    "print(y[z])"
   ]
  },
  {
   "cell_type": "markdown",
   "id": "bae9e26f",
   "metadata": {},
   "source": [
    "## Generating Data in Numpy\n",
    "\n",
    "### Random Numbers"
   ]
  },
  {
   "cell_type": "code",
   "execution_count": null,
   "id": "9b47bc9e",
   "metadata": {},
   "outputs": [],
   "source": [
    "import numpy as np"
   ]
  },
  {
   "cell_type": "code",
   "execution_count": null,
   "id": "0cb1aa9e",
   "metadata": {},
   "outputs": [],
   "source": [
    "height = np.round(np.random.normal(1.91, 0.19,6000),2)\n",
    "weight = np.round(np.random.normal(65.55,15,6000),2)\n",
    "np_team = np.column_stack((height,weight))"
   ]
  },
  {
   "cell_type": "code",
   "execution_count": null,
   "id": "cec529d6",
   "metadata": {},
   "outputs": [],
   "source": [
    "np_team.shape"
   ]
  },
  {
   "cell_type": "markdown",
   "id": "3cc26ed9",
   "metadata": {},
   "source": [
    "## Mean"
   ]
  },
  {
   "cell_type": "code",
   "execution_count": null,
   "id": "cef91ccc",
   "metadata": {},
   "outputs": [],
   "source": [
    "height_mean = np.round(np.mean(np_team[:,0]),2)\n",
    "height_mean"
   ]
  },
  {
   "cell_type": "code",
   "execution_count": null,
   "id": "57df4833",
   "metadata": {},
   "outputs": [],
   "source": [
    "height_median = np.round(np.median(np_team[:,0]),2)\n",
    "height_median"
   ]
  },
  {
   "cell_type": "code",
   "execution_count": null,
   "id": "72748e1a",
   "metadata": {},
   "outputs": [],
   "source": [
    "np_team_corr = np.corrcoef(np_team[:,0],np_team[:,1])\n",
    "np_team_corr"
   ]
  },
  {
   "cell_type": "code",
   "execution_count": null,
   "id": "51374b01",
   "metadata": {},
   "outputs": [],
   "source": [
    "np.std(np_team[:,0])"
   ]
  },
  {
   "cell_type": "markdown",
   "id": "373c1817",
   "metadata": {},
   "source": [
    "## Advantages of Data Structure\n",
    "\n",
    "1- Data structure helps in efficient storage of data in the storage device.\n",
    "\n",
    "2- Data structure usage provides convenience while retrieving the data from storage device.\n",
    "\n",
    "3- Data structure provides effective and efficient processing of small as well as large amount of data.\n",
    "\n",
    "4- Usage of proper data structure, can help programmer save lots of time or processing time while operations such as storage, retrieval or processing of data.\n",
    "\n",
    "5- Manipulation of large amount of data can be carried out easily with the use of good data structure approach.\n",
    "\n",
    "6- Most of the well organized data structures like Array, stack, queues, graph, tree, linked list has well built and pre-planned approach for operations like storage, addition, retrieval, manipulation, deletion, etc. While using them, programmer can be completely rely on these data structures."
   ]
  },
  {
   "cell_type": "markdown",
   "id": "e7a3890c",
   "metadata": {},
   "source": [
    "## Disadvantages of Data Structure\n",
    "\n",
    "1- An application using data structure requires highly qualified professional resource to manage the operations related to data structure. For example, consider the array example that we explained above. If we need to get the elements of the above array in ascending or descending order then we must know sorting technique algorithms like insertion sort, bubble sort, etc. Or a good coder will also be able to design their own sorting algorithm. Similarly there may be other complex operations to be performed which may require dedicated professional.\n",
    "\n",
    "2- Bigger the application or data structure involved in creating and maintaining application more is the requirement of man power. This can increase maintaining data structure costs. For example, we have several data structure available like array, queue, stack, linked list, tree, graph, etc. Bigger the application is more the amount of such data structures will be involved. Thus you may need several professional to create and maintain the application.\n",
    "\n",
    "3- Designing your own data structure may involve complex algorithm and may require lot of time and testing to conclude they are full-proof and ready to use for organization purpose. This again will come with increase cost. And after development is complete it may be found that the new data structure designed is not that effective as was expected."
   ]
  }
 ],
 "metadata": {
  "kernelspec": {
   "display_name": "Python 3 (ipykernel)",
   "language": "python",
   "name": "python3"
  },
  "language_info": {
   "codemirror_mode": {
    "name": "ipython",
    "version": 3
   },
   "file_extension": ".py",
   "mimetype": "text/x-python",
   "name": "python",
   "nbconvert_exporter": "python",
   "pygments_lexer": "ipython3",
   "version": "3.9.12"
  }
 },
 "nbformat": 4,
 "nbformat_minor": 5
}
